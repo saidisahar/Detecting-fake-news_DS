{
 "cells": [
  {
   "cell_type": "code",
   "execution_count": 3,
   "id": "dde828bf",
   "metadata": {},
   "outputs": [],
   "source": [
    "#Import libraries\n",
    "\n",
    "import pandas as pd\n",
    "import numpy as np\n",
    "import seaborn as sns\n",
    "from sklearn.model_selection import train_test_split\n",
    "from sklearn.feature_extraction.text import TfidfVectorizer\n",
    "from sklearn.linear_model import PassiveAggressiveClassifier\n",
    "from sklearn.metrics import accuracy_score, confusion_matrix, classification_report\n",
    "import matplotlib.pyplot as plt"
   ]
  },
  {
   "cell_type": "code",
   "execution_count": 5,
   "id": "0e867e07",
   "metadata": {},
   "outputs": [
    {
     "name": "stdout",
     "output_type": "stream",
     "text": [
      "<class 'pandas.core.frame.DataFrame'>\n",
      "RangeIndex: 6335 entries, 0 to 6334\n",
      "Data columns (total 4 columns):\n",
      " #   Column      Non-Null Count  Dtype \n",
      "---  ------      --------------  ----- \n",
      " 0   Unnamed: 0  6335 non-null   int64 \n",
      " 1   title       6335 non-null   object\n",
      " 2   text        6335 non-null   object\n",
      " 3   label       6335 non-null   object\n",
      "dtypes: int64(1), object(3)\n",
      "memory usage: 198.1+ KB\n"
     ]
    },
    {
     "data": {
      "text/plain": [
       "REAL    3171\n",
       "FAKE    3164\n",
       "Name: label, dtype: int64"
      ]
     },
     "execution_count": 5,
     "metadata": {},
     "output_type": "execute_result"
    }
   ],
   "source": [
    "#Read the csv file\n",
    "news_data = pd.read_csv(\"news.csv\")\n",
    "news_data.head(10)\n",
    "\n",
    "#Have some information about data\n",
    "news_data.info()\n",
    "news_data.shape\n",
    "\n",
    "#Choose the feature\n",
    "labels = news_data[\"label\"]\n",
    "labels.head(10)\n",
    "labels.value_counts()"
   ]
  },
  {
   "cell_type": "code",
   "execution_count": 23,
   "id": "95f07dfe",
   "metadata": {},
   "outputs": [],
   "source": [
    "#Split data before building the model:\n",
    "X_train, X_test, y_train, y_test = train_test_split(news_data[\"text\"], labels, test_size = 0.4, random_state =7)"
   ]
  },
  {
   "cell_type": "code",
   "execution_count": 24,
   "id": "7a63582b",
   "metadata": {},
   "outputs": [],
   "source": [
    "#Initialize TfidfVectorizer with English stop words\n",
    "vectorizer = TfidfVectorizer (stop_words=\"english\", max_df=0.7)\n",
    "tfidf_train = vectorizer.fit_transform(X_train)\n",
    "tfidf_test = vectorizer.transform(X_test)"
   ]
  },
  {
   "cell_type": "code",
   "execution_count": 9,
   "id": "45d74cc0",
   "metadata": {},
   "outputs": [],
   "source": [
    "#Build the model:\n",
    "passive = PassiveAggressiveClassifier(max_iter=50)"
   ]
  },
  {
   "cell_type": "code",
   "execution_count": 13,
   "id": "2616264e",
   "metadata": {},
   "outputs": [],
   "source": [
    "#redict target data \n",
    "y_pred = passive.predict(tfidf_test)"
   ]
  },
  {
   "cell_type": "code",
   "execution_count": 14,
   "id": "92f8ada0",
   "metadata": {},
   "outputs": [],
   "source": [
    "#Evaluate the model's accuracy --->confusion matrix\n",
    "matrix = confusion_matrix (y_test,y_pred, labels=['FAKE','REAL'])"
   ]
  },
  {
   "cell_type": "code",
   "execution_count": 16,
   "id": "f3b57d55",
   "metadata": {},
   "outputs": [
    {
     "data": {
      "text/plain": [
       "<AxesSubplot: >"
      ]
     },
     "execution_count": 16,
     "metadata": {},
     "output_type": "execute_result"
    },
    {
     "data": {
      "image/png": "[encoded data removed]",
      "text/plain": [
       "<Figure size 640x480 with 2 Axes>"
      ]
     },
     "metadata": {},
     "output_type": "display_data"
    }
   ],
   "source": [
    "#Visualize the confusion matrix\n",
    "sns.heatmap(matrix, annot=True)"
   ]
  },
  {
   "cell_type": "code",
   "execution_count": 22,
   "id": "fa4dec23",
   "metadata": {},
   "outputs": [
    {
     "name": "stdout",
     "output_type": "stream",
     "text": [
      "              precision    recall  f1-score   support\n",
      "\n",
      "        FAKE       0.93      0.93      0.93      1270\n",
      "        REAL       0.93      0.93      0.93      1264\n",
      "\n",
      "    accuracy                           0.93      2534\n",
      "   macro avg       0.93      0.93      0.93      2534\n",
      "weighted avg       0.93      0.93      0.93      2534\n",
      "\n"
     ]
    }
   ],
   "source": [
    "#Calculate the model's accuracy\n",
    "accuracy=accuracy_score(y_test, y_pred)\n",
    "accuracy*100\n",
    "Report=classification_report(y_test, y_pred)\n",
    "print(Report)"
   ]
  }
 ],
 "metadata": {
  "kernelspec": {
   "display_name": "Python 3 (ipykernel)",
   "language": "python",
   "name": "python3"
  },
  "language_info": {
   "codemirror_mode": {
    "name": "ipython",
    "version": 3
   },
   "file_extension": ".py",
   "mimetype": "text/x-python",
   "name": "python",
   "nbconvert_exporter": "python",
   "pygments_lexer": "ipython3",
   "version": "3.10.7"
  },
  "vscode": {
   "interpreter": {
    "hash": "63963b3f4c440940f0b94a3100916033a226cb4f45979123153792d60aa56d6a"
   }
  }
 },
 "nbformat": 4,
 "nbformat_minor": 5
}
